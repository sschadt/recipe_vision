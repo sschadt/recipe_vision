{
 "cells": [
  {
   "cell_type": "markdown",
   "metadata": {},
   "source": [
    "#### merge urls to recipe dataframe"
   ]
  },
  {
   "cell_type": "code",
   "execution_count": 2,
   "metadata": {},
   "outputs": [],
   "source": [
    "# import relevant libraries\n",
    "import pandas as pd\n",
    "import numpy as np\n",
    "from collections import Counter\n",
    "import nltk \n",
    "from nltk.tokenize import sent_tokenize, word_tokenize\n",
    "from nltk.corpus import stopwords\n",
    "import ast\n",
    "import re\n",
    "import math"
   ]
  },
  {
   "cell_type": "code",
   "execution_count": 3,
   "metadata": {},
   "outputs": [],
   "source": [
    "# recipes dataframes\n",
    "# there is a mismatch in df3_urls and df3_recipes 2430 vs 1022\n",
    "df1 = pd.read_csv('../../ScrapeData/csv_recipes/recipe_df1.csv')\n",
    "df2 = pd.read_csv('../../ScrapeData/csv_recipes/recipe_df2.csv')\n",
    "df3 = pd.read_csv('../../ScrapeData/csv_recipes/recipe_df3.csv')\n",
    "df4 = pd.read_csv('../../ScrapeData/csv_recipes/recipe_df4.csv')\n",
    "df5 = pd.read_csv('../../ScrapeData/csv_recipes/recipe_df5.csv')\n",
    "df6 = pd.read_csv('../../ScrapeData/csv_recipes/recipe_df6.csv')\n",
    "df7 = pd.read_csv('../../ScrapeData/csv_recipes/recipe_df7.csv')\n",
    "df8 = pd.read_csv('../../ScrapeData/csv_recipes/recipe_df8.csv')"
   ]
  },
  {
   "cell_type": "code",
   "execution_count": 4,
   "metadata": {
    "scrolled": true
   },
   "outputs": [],
   "source": [
    "# concat the dataframes\n",
    "df_recipes = pd.concat([df1,df2,df3,df4,df5,df6,df7,df8])\n",
    "df_recipes = df_recipes.drop(['Unnamed: 0','id'], axis=1) #drop columns not required"
   ]
  },
  {
   "cell_type": "code",
   "execution_count": 5,
   "metadata": {},
   "outputs": [],
   "source": [
    "df_recipes=df_recipes.reset_index(drop='index')"
   ]
  },
  {
   "cell_type": "code",
   "execution_count": 6,
   "metadata": {},
   "outputs": [],
   "source": [
    "# url dataframes\n",
    "df1_url = pd.read_csv('../../ScrapeData/csv_urls/urls_df1.csv')\n",
    "df2_url = pd.read_csv('../../ScrapeData/csv_urls/urls_df2.csv')\n",
    "df3_url = pd.read_csv('../../ScrapeData/csv_urls/urls_df3.csv')\n",
    "df3_url = df3_url.iloc[:1022,:]\n",
    "df4_url = pd.read_csv('../../ScrapeData/csv_urls/urls_df4.csv')\n",
    "df5_url = pd.read_csv('../../ScrapeData/csv_urls/urls_df5.csv')\n",
    "df6_url = pd.read_csv('../../ScrapeData/csv_urls/urls_df6.csv')"
   ]
  },
  {
   "cell_type": "code",
   "execution_count": 7,
   "metadata": {},
   "outputs": [],
   "source": [
    "# concat the dataframes url and recipes\n",
    "df_url = pd.concat([df1_url,df2_url, df3_url, df4_url,df5_url,df6_url])\n",
    "df_url = df_url.drop(['Unnamed: 0'], axis=1) #drop columns not required"
   ]
  },
  {
   "cell_type": "code",
   "execution_count": 8,
   "metadata": {},
   "outputs": [],
   "source": [
    "df_url = df_url.reset_index(drop='index')"
   ]
  },
  {
   "cell_type": "code",
   "execution_count": 9,
   "metadata": {},
   "outputs": [],
   "source": [
    "# merge df_url and df_recipes\n",
    "df = pd.concat([df_url,df_recipes],axis=1)"
   ]
  },
  {
   "cell_type": "markdown",
   "metadata": {},
   "source": [
    "#### preprocess the dataframe"
   ]
  },
  {
   "cell_type": "code",
   "execution_count": 10,
   "metadata": {},
   "outputs": [],
   "source": [
    "df['makeitagainscore'] = pd.to_numeric(df['makeitagainscore'].str.replace('%', ''))"
   ]
  },
  {
   "cell_type": "code",
   "execution_count": 11,
   "metadata": {},
   "outputs": [],
   "source": [
    "# drop rows if there are null value records\n",
    "df.dropna(axis=0, how='any', inplace=True,subset=['bestrating','ingredients',\\\n",
    "                            'makeitagainscore','preparation','rating','reviews','tags','title'])"
   ]
  },
  {
   "cell_type": "code",
   "execution_count": 12,
   "metadata": {},
   "outputs": [
    {
     "name": "stderr",
     "output_type": "stream",
     "text": [
      "/anaconda3/lib/python3.6/site-packages/ipykernel_launcher.py:4: FutureWarning: set_value is deprecated and will be removed in a future release. Please use .at[] or .iat[] accessors instead\n",
      "  after removing the cwd from sys.path.\n"
     ]
    }
   ],
   "source": [
    "df[\"ingredients_refined\"] = \"\"\n",
    "for index, row in df.iterrows():\n",
    "    ingredients_items = ast.literal_eval(row[\"ingredients\"])\n",
    "    df.set_value(index,'ingredients_refined',ingredients_items)"
   ]
  },
  {
   "cell_type": "code",
   "execution_count": 13,
   "metadata": {},
   "outputs": [
    {
     "name": "stderr",
     "output_type": "stream",
     "text": [
      "/anaconda3/lib/python3.6/site-packages/ipykernel_launcher.py:4: FutureWarning: set_value is deprecated and will be removed in a future release. Please use .at[] or .iat[] accessors instead\n",
      "  after removing the cwd from sys.path.\n"
     ]
    }
   ],
   "source": [
    "df[\"tags_refined\"] = \"\"\n",
    "for index, row in df.iterrows():\n",
    "    tag_items = ast.literal_eval(row[\"tags\"])\n",
    "    df.set_value(index,'tags_refined',tag_items)"
   ]
  },
  {
   "cell_type": "markdown",
   "metadata": {},
   "source": [
    "#### extract ingrediants"
   ]
  },
  {
   "cell_type": "code",
   "execution_count": 14,
   "metadata": {},
   "outputs": [],
   "source": [
    "# list of prepositions\n",
    "prepositions = [\"A\", \"An\", \"a\", \"about\", \"above\", \"above\", \"across\", \"additional\",\"after\", \"afterwards\", \"again\", \"against\", \"all\", \"almost\", \"alone\", \"along\", \"already\", \"also\",\"although\",\"always\",\"am\",\"among\", \"amongst\", \"amoungst\", \"amount\",  \"an\", \"and\", \"another\", \"any\",\"anyhow\",\"anyone\",\"anything\",\"anyway\", \"anywhere\", \"are\", \"around\", \"as\",  \"at\", \"back\",\"be\",\"became\", \"because\",\"become\",\"becomes\", \"becoming\", \"been\", \"before\", \"beforehand\", \"behind\", \"being\", \"below\", \"beside\", \"besides\", \"between\", \"beyond\", \"bill\", \"both\", \"bottom\",\"but\", \"by\", \"call\", \"can\", \"cannot\", \"cant\", \"co\", \"con\", \"could\", \"couldnt\", \"cry\", \"de\", \"describe\", \"detail\", \"do\", \"done\", \"down\", \"due\", \"during\", \"each\", \"eg\", \"eight\", \"either\", \"eleven\",\"else\", \"elsewhere\", \"empty\", \"enough\", \"etc\", \"even\", \"ever\", \"every\", \"everyone\", \"everything\", \"everywhere\", \"except\", \"few\", \"fifteen\", \"fify\", \"fill\", \"find\", \"fire\", \"first\", \"five\", \"for\", \"former\", \"formerly\", \"forty\", \"found\", \"four\", \"from\", \"front\", \"full\", \"further\", \"get\", \"give\", \"go\", \"had\", \"has\", \"hasnt\", \"have\", \"he\", \"hence\", \"her\", \"here\", \"hereafter\", \"hereby\", \"herein\", \"hereupon\", \"hers\", \"herself\", \"him\", \"himself\", \"his\", \"how\", \"however\", \"hundred\", \"ie\", \"if\", \"in\", \"inc\", \"indeed\", \"interest\", \"into\", \"is\", \"it\", \"its\", \"itself\", \"keep\", \"last\", \"latter\", \"latterly\", \"least\", \"less\", \"ltd\", \"made\", \"many\", \"may\", \"me\", \"meanwhile\", \"might\", \"mill\", \"mine\", \"more\", \"moreover\", \"most\", \"mostly\", \"move\", \"much\", \"must\", \"my\", \"myself\", \"name\", \"namely\", \"neither\", \"never\", \"nevertheless\", \"next\", \"nine\", \"no\", \"nobody\", \"none\", \"nor\", \"not\", \"nothing\", \"now\", \"nowhere\", \"of\", \"off\", \"often\", \"on\", \"once\", \"one\", \"only\", \"onto\", \"or\", \"other\", \"others\", \"otherwise\", \"our\", \"ours\", \"ourselves\", \"out\", \"over\", \"own\",\"part\", \"per\", \"perhaps\", \"please\", \"plus\", \"put\", \"rather\", \"re\", \"same\", \"see\", \"seem\", \"seemed\", \"seeming\", \"seems\", \"serious\", \"several\", \"she\", \"should\", \"show\", \"side\", \"since\", \"sincere\", \"six\", \"sixty\", \"so\", \"some\", \"somehow\", \"someone\", \"something\", \"sometime\", \"sometimes\", \"somewhere\", \"still\", \"such\", \"system\", \"take\", \"ten\", \"than\", \"that\", \"the\", \"their\", \"them\", \"themselves\", \"then\", \"thence\", \"there\", \"thereafter\", \"thereby\", \"therefore\", \"therein\", \"thereupon\", \"these\", \"they\", \"thick\", \"thickly\", \"thin\", \"thinly\", \"third\", \"this\", \"those\", \"though\", \"three\", \"through\", \"throughout\", \"thru\", \"thus\", \"to\", \"together\", \"too\", \"top\", \"toward\", \"towards\", \"twelve\", \"twenty\", \"two\", \"un\", \"under\", \"until\", \"up\", \"upon\", \"us\", \"very\", \"via\", \"was\", \"we\", \"well\", \"were\", \"what\", \"whatever\", \"when\", \"whence\", \"whenever\", \"where\", \"whereafter\", \"whereas\", \"whereby\", \"wherein\", \"whereupon\", \"wherever\", \"whether\", \"which\", \"while\", \"whither\", \"who\", \"whoever\", \"whole\", \"whom\", \"whose\", \"why\", \"will\", \"with\", \"within\", \"without\", \"would\", \"yet\", \"you\", \"your\", \"yours\", \"yourself\", \"yourselves\", \"the\"]"
   ]
  },
  {
   "cell_type": "code",
   "execution_count": 15,
   "metadata": {},
   "outputs": [],
   "source": [
    "# Common measurement words and hard-coded words.\n",
    "measurement_words = ['pound',\n",
    " 'cubes',\n",
    "  'cups',\n",
    "  'cut',\n",
    " 'kilogram',\n",
    " 'ounce','-ounce',\n",
    " 'gram',\n",
    " 'cup',\n",
    " 'spoon',\n",
    " 'quart',\n",
    " 'teaspoon','teaspoons',\n",
    " 'smidgen',\n",
    " 'drop',\n",
    " 'gallon',\n",
    " 'dash',\n",
    " 'handful',\n",
    " 'scoop',\n",
    " 'bowl',\n",
    " 'inch',\n",
    " '-inch',\n",
    " 'pinch',\n",
    " 'liter',\n",
    " 'milliliter',\n",
    " 'tablespoon', 'tablespoons',\n",
    " 'fluid',\n",
    " 'bottle',\n",
    " 'tad',\n",
    " 'pint', 'Tbsp', 'tsp','lb']"
   ]
  },
  {
   "cell_type": "code",
   "execution_count": 16,
   "metadata": {},
   "outputs": [
    {
     "name": "stdout",
     "output_type": "stream",
     "text": [
      "[nltk_data] Downloading package stopwords to\n",
      "[nltk_data]     /Users/sschadt/nltk_data...\n",
      "[nltk_data]   Package stopwords is already up-to-date!\n"
     ]
    },
    {
     "data": {
      "text/plain": [
       "True"
      ]
     },
     "execution_count": 16,
     "metadata": {},
     "output_type": "execute_result"
    }
   ],
   "source": [
    "import nltk\n",
    "nltk.download('stopwords')"
   ]
  },
  {
   "cell_type": "code",
   "execution_count": 17,
   "metadata": {},
   "outputs": [],
   "source": [
    "# create a list of stopwords, prepositions, and measurement words\n",
    "filtered = nltk.corpus.stopwords.words('english')\n",
    "for word in prepositions:\n",
    "    filtered.append(word)\n",
    "for word in measurement_words:\n",
    "    filtered.append(word)"
   ]
  },
  {
   "cell_type": "code",
   "execution_count": 32,
   "metadata": {},
   "outputs": [
    {
     "name": "stderr",
     "output_type": "stream",
     "text": [
      "/anaconda3/lib/python3.6/site-packages/ipykernel_launcher.py:29: FutureWarning: set_value is deprecated and will be removed in a future release. Please use .at[] or .iat[] accessors instead\n"
     ]
    }
   ],
   "source": [
    "df[\"ingredient_list\"] = \"\"\n",
    "for index, row in df.iterrows():\n",
    "    ingredients_items = ast.literal_eval(row[\"ingredients\"])\n",
    "\n",
    "    ingredients = []\n",
    "    pattern = \"([^\\d\\\\.\\\\,\\\\\\;\\\\*\\\\]\\\\[\\\\%\\\\½\\\\<\\\\>\\\\:\\\\°\\\\?\\\\�\\\\}\\\\{\\)\\(\\\"\\/\\s]+)\"\n",
    "    for ingredient in ingredients_items:\n",
    "        p = re.compile(pattern)\n",
    "        result = p.findall(ingredient) \n",
    "        ingredients.append(result)\n",
    "        \n",
    "        \n",
    "    single_ingr = sum(ingredients, [])\n",
    "    recipe_ingr = list(set(single_ingr))\n",
    "\n",
    "\n",
    "    filtered_ingr = []\n",
    "    for item in recipe_ingr:\n",
    "        if item not in filtered:\n",
    "            filtered_ingr.append(item)\n",
    "            \n",
    "    # Singularize the plural words, except words ending in 'us'. We lose\n",
    "    #  's' from 'seedless', etc, but those don't matter.\n",
    "    ingredients_singularized = [word[:-1] for word in filtered_ingr if word[-1:] == \"s\" and word[-2:] != \"us\"]\n",
    "    ingredients_not_singular = [word for word in filtered_ingr if word[-1:] != \"s\" or word[-2:] == \"us\"]\n",
    "    ingredients_all = ingredients_singularized + ingredients_not_singular\n",
    "    \n",
    "    # Add list to new field\n",
    "    df.set_value(index,\"ingredient_list\",ingredients_all)"
   ]
  },
  {
   "cell_type": "code",
   "execution_count": 33,
   "metadata": {},
   "outputs": [],
   "source": [
    "#export the refined dataframe to a csv\n",
    "df.to_csv('df_similarity.csv')"
   ]
  },
  {
   "cell_type": "markdown",
   "metadata": {},
   "source": [
    "#### similarity script"
   ]
  },
  {
   "cell_type": "code",
   "execution_count": 20,
   "metadata": {},
   "outputs": [],
   "source": [
    "#sample_str = [\n",
    "#    \"rice\", \"carrots\", \"shallots\"\n",
    "#]\n",
    "sample_str = [\"fruit\", \"avocado\", \"natural foods\", \"soup\", \"cuisine\", \"vegetarian food\", \"asparagus\"]"
   ]
  },
  {
   "cell_type": "code",
   "execution_count": 40,
   "metadata": {},
   "outputs": [
    {
     "name": "stdout",
     "output_type": "stream",
     "text": [
      "<class 'list'>\n"
     ]
    }
   ],
   "source": [
    "print(type(df['ingredient_list'][55]))"
   ]
  },
  {
   "cell_type": "code",
   "execution_count": 37,
   "metadata": {},
   "outputs": [
    {
     "name": "stdout",
     "output_type": "stream",
     "text": [
      "Counter({'fruit': 1, 'avocado': 1, 'natural foods': 1, 'soup': 1, 'cuisine': 1, 'vegetarian food': 1, 'asparagus': 1})\n",
      "Counter({'pea': 1, 'floret': 1, 'chive': 1, 'green': 1, 'seedles': 1, 'ounce': 1, 'grain': 1, 'herb': 1, 'seed': 1, 'cucumber': 1, 'avocado': 1, 'pepita': 1, 'egg': 1, 'clove': 1, 'kosher': 1, 'sliced': 1, 'parsley': 1, 'rice': 1, 'mini': 1, 'ground': 1, 'sugar': 1, 'snap': 1, 'fresh': 1, 'garlic': 1, 'oil': 1, 'salt': 1, 'quinoa': 1, 'pepper': 1, 'tarragon': 1, 'lemon': 1, 'freshly': 1, 'divided': 1, 'pumpkin': 1, 'whole-milk': 1, 'halved': 1, 'black': 1, 'chopped': 1, 'finely': 1, 'mixed': 1, 'toasted': 1, 'olive': 1, 'large': 1, 'pitted': 1, 'cooked': 1, 'baby': 1, 'juice': 1, 'yogurt': 1, 'ripe': 1, 'farro': 1, 'broccoli': 1, 'brown': 1})\n"
     ]
    }
   ],
   "source": [
    "counterA = Counter(sample_str)\n",
    "counterB = Counter(df['ingredient_list'][55])\n",
    "print(counterA)\n",
    "print(counterB)"
   ]
  },
  {
   "cell_type": "code",
   "execution_count": 22,
   "metadata": {},
   "outputs": [],
   "source": [
    "def counter_cosine_similarity(c1, c2):\n",
    "    '''a function to calculate the cosine similarity between two lists'''\n",
    "    terms = set(c1).union(c2)\n",
    "    dotprod = sum(c1.get(k, 0) * c2.get(k, 0) for k in terms)\n",
    "    magA = math.sqrt(sum(c1.get(k, 0)**2 for k in terms))\n",
    "    magB = math.sqrt(sum(c2.get(k, 0)**2 for k in terms))\n",
    "    return dotprod / (magA * magB)"
   ]
  },
  {
   "cell_type": "code",
   "execution_count": 38,
   "metadata": {},
   "outputs": [
    {
     "name": "stdout",
     "output_type": "stream",
     "text": [
      "0.05292561240249631\n"
     ]
    }
   ],
   "source": [
    "print(counter_cosine_similarity(counterA, counterB))"
   ]
  },
  {
   "cell_type": "code",
   "execution_count": 23,
   "metadata": {},
   "outputs": [
    {
     "name": "stdout",
     "output_type": "stream",
     "text": [
      "11494\n"
     ]
    }
   ],
   "source": [
    "print(len(df))"
   ]
  },
  {
   "cell_type": "code",
   "execution_count": 49,
   "metadata": {},
   "outputs": [
    {
     "name": "stderr",
     "output_type": "stream",
     "text": [
      "/anaconda3/lib/python3.6/site-packages/ipykernel_launcher.py:7: FutureWarning: set_value is deprecated and will be removed in a future release. Please use .at[] or .iat[] accessors instead\n",
      "  import sys\n",
      "/anaconda3/lib/python3.6/site-packages/ipykernel_launcher.py:9: FutureWarning: set_value is deprecated and will be removed in a future release. Please use .at[] or .iat[] accessors instead\n",
      "  if __name__ == '__main__':\n"
     ]
    }
   ],
   "source": [
    "df['similarity_score']=\"\"\n",
    "\n",
    "for index, row in df.iterrows():\n",
    "    try:\n",
    "        counterB = Counter(row['ingredient_list'])\n",
    "        score = counter_cosine_similarity(counterA,counterB)\n",
    "        df.set_value(index,'similarity_score',score)\n",
    "    except ZeroDivisionError:\n",
    "        df.set_value(index,'similarity_score',0)"
   ]
  },
  {
   "cell_type": "code",
   "execution_count": 50,
   "metadata": {},
   "outputs": [
    {
     "data": {
      "text/plain": [
       "numpy.int64"
      ]
     },
     "execution_count": 50,
     "metadata": {},
     "output_type": "execute_result"
    }
   ],
   "source": [
    "type(df[\"similarity_score\"][55])"
   ]
  },
  {
   "cell_type": "code",
   "execution_count": 41,
   "metadata": {},
   "outputs": [],
   "source": [
    "#results_all = df.sort_values(by=['similarity_score','rating','makeitagainscore'],ascending=[False,False,False])\n",
    "results_all = df.sort_values(by=\"similarity_score\",ascending=False)\n",
    "\n",
    "results = results_all[:3]"
   ]
  },
  {
   "cell_type": "code",
   "execution_count": 48,
   "metadata": {},
   "outputs": [
    {
     "data": {
      "text/html": [
       "<div>\n",
       "<style scoped>\n",
       "    .dataframe tbody tr th:only-of-type {\n",
       "        vertical-align: middle;\n",
       "    }\n",
       "\n",
       "    .dataframe tbody tr th {\n",
       "        vertical-align: top;\n",
       "    }\n",
       "\n",
       "    .dataframe thead th {\n",
       "        text-align: right;\n",
       "    }\n",
       "</style>\n",
       "<table border=\"1\" class=\"dataframe\">\n",
       "  <thead>\n",
       "    <tr style=\"text-align: right;\">\n",
       "      <th></th>\n",
       "      <th>batch</th>\n",
       "      <th>urls</th>\n",
       "      <th>bestrating</th>\n",
       "      <th>imagesrc</th>\n",
       "      <th>ingredients</th>\n",
       "      <th>makeitagainscore</th>\n",
       "      <th>preparation</th>\n",
       "      <th>rating</th>\n",
       "      <th>reviews</th>\n",
       "      <th>tags</th>\n",
       "      <th>title</th>\n",
       "      <th>ingredients_refined</th>\n",
       "      <th>tags_refined</th>\n",
       "      <th>ingredient_list</th>\n",
       "      <th>similarity_score</th>\n",
       "    </tr>\n",
       "  </thead>\n",
       "  <tbody>\n",
       "  </tbody>\n",
       "</table>\n",
       "</div>"
      ],
      "text/plain": [
       "Empty DataFrame\n",
       "Columns: [batch, urls, bestrating, imagesrc, ingredients, makeitagainscore, preparation, rating, reviews, tags, title, ingredients_refined, tags_refined, ingredient_list, similarity_score]\n",
       "Index: []"
      ]
     },
     "execution_count": 48,
     "metadata": {},
     "output_type": "execute_result"
    }
   ],
   "source": [
    "results.head(0)"
   ]
  },
  {
   "cell_type": "code",
   "execution_count": 27,
   "metadata": {},
   "outputs": [],
   "source": [
    "results = results[['urls','ingredients_refined','tags_refined','title','rating','preparation','similarity_score']]"
   ]
  },
  {
   "cell_type": "code",
   "execution_count": 28,
   "metadata": {},
   "outputs": [],
   "source": [
    "results = results.reset_index(drop='index')"
   ]
  },
  {
   "cell_type": "code",
   "execution_count": 29,
   "metadata": {},
   "outputs": [
    {
     "data": {
      "text/plain": [
       "'{\"0\":{\"urls\":\"https:\\\\/\\\\/www.epicurious.com\\\\/recipes\\\\/food\\\\/views\\\\/chilled-avocado-and-zucchini-soup-12507\",\"ingredients_refined\":[\"1 medium zucchini, cut into 1\\\\/2-inch slices\",\"1 California avocado\",\"1 cup buttermilk\",\"3\\\\/4 cup ice cubes plus additional to thin the soup if desired\",\"2 tablespoons fresh lemon juice\",\"1\\\\/4 teaspoon ground cumin\",\"1 1\\\\/2 teaspoons minced fresh chives\"],\"tags_refined\":[\"Soup\\\\/Stew\",\"Milk\\\\/Cream\",\"Blender\",\"Steam\",\"Vegetarian\",\"Quick & Easy\",\"Avocado\",\"Zucchini\",\"Summer\",\"Chill\",\"Chive\",\"Gourmet\"],\"title\":\"Chilled Avocado and Zucchini Soup \",\"rating\":3.0,\"preparation\":\"In a steamer set over boiling water steam the zucchini, covered, for 10 minutes, or until it is very tender. In a blender pure\\\\u00e9 the zucchini with the avocado, halved, peeled, and chopped, the buttermilk, 3\\\\/4 cup of the ice cubes, the lemon juice, and the cumin, adding enough of the additional ice cubes to reach the desired consistency. Divide the soup between 2 bowls and sprinkle it with the chives. Makes about 2 1\\\\/4 cups, serving 2.\",\"similarity_score\":0.1889822365},\"1\":{\"urls\":\"https:\\\\/\\\\/www.epicurious.com\\\\/recipes\\\\/food\\\\/views\\\\/yogurt-with-granola-tropical-fruit-and-crystallized-ginger-242686\",\"ingredients_refined\":[\"3 cups diced peeled tropical fruit (such as pineapple, mango, and kiwi)\",\"1\\\\/3 cup honey\",\"1\\\\/3 cup finely chopped crystallized ginger plus additional for garnish\",\"2 1\\\\/2 cups plain nonfat or reduced-fat (2%) Greek-style yogurt,* divided\",\"2 cups purchased granola (with nuts and dried fruits, if desired)\"],\"tags_refined\":[\"Fruit\",\"Ginger\",\"Breakfast\",\"Brunch\",\"No-Cook\",\"Low Fat\",\"Vegetarian\",\"Quick & Easy\",\"Low Cal\",\"High Fiber\",\"Mother\\'s Day\",\"Healthy\",\"Low Cholesterol\",\"Honey\",\"Bon App\\\\u00e9tit\",\"Pescatarian\",\"Wheat\\\\/Gluten-Free\",\"Peanut Free\",\"Soy Free\",\"Kosher\"],\"title\":\"Yogurt with Granola, Tropical Fruit, and Crystallized Ginger \",\"rating\":3.5,\"preparation\":\"Mix fruit, honey, and 1\\\\/3 cup crystallized ginger in medium bowl. Spoon 1\\\\/2 cup yogurt into each bowl. Top each with 1\\\\/2 cup granola, then 3\\\\/4 cup fruit mixture. Spoon remaining 1\\\\/2 cup yogurt in dollops over fruit. Garnish with more chopped crystallized ginger and serve.*A thick yogurt; sold at some supermarkets and at specialty foods stores and Greek markets.\",\"similarity_score\":0.1454785935},\"2\":{\"urls\":\"https:\\\\/\\\\/www.epicurious.com\\\\/recipes\\\\/food\\\\/views\\\\/avocado-and-mango-salad-with-passion-fruit-vinaigrette-231721\",\"ingredients_refined\":[\"3 tablespoons frozen passion fruit juice concentrate, thawed\",\"3 tablespoons minced shallot\",\"4 teaspoons Sherry wine vinegar\",\"1 teaspoon Dijon mustard\",\"1 teaspoon whole coriander seeds, coarsely cracked\",\"3 tablespoons olive oil\",\"8 cups herb salad mix (about 4 ounces)\",\"1 large ripe mango, halved, pitted, peeled, sliced\",\"2 small avocados, halved, pitted, peeled, sliced\"],\"tags_refined\":[\"American\",\"Salad\",\"Fruit\",\"Leafy Green\",\"Appetizer\",\"No-Cook\",\"Vegetarian\",\"Quick & Easy\",\"Graduation\",\"Mango\",\"Avocado\",\"Spring\",\"Vegan\",\"Raw\",\"Passion Fruit\",\"Bon App\\\\u00e9tit\",\"Pescatarian\",\"Dairy Free\",\"Wheat\\\\/Gluten-Free\",\"Peanut Free\",\"Tree Nut Free\",\"Soy Free\",\"Kosher\"],\"title\":\"Avocado and Mango Salad with Passion Fruit Vinaigrette \",\"rating\":3.5,\"preparation\":\"Whisk first 5 ingredients in small bowl to blend; gradually whisk in oil. Season dressing generously with salt and pepper. Toss salad mix in large bowl with 1\\\\/4 cup dressing. Divide salad among 4 plates. Tuck mango and avocado into salad; drizzle some of remaining dressing over mango and avocado.\",\"similarity_score\":0.133630621}}'"
      ]
     },
     "execution_count": 29,
     "metadata": {},
     "output_type": "execute_result"
    }
   ],
   "source": [
    "results.to_json(orient='index')"
   ]
  },
  {
   "cell_type": "code",
   "execution_count": null,
   "metadata": {},
   "outputs": [],
   "source": []
  }
 ],
 "metadata": {
  "kernelspec": {
   "display_name": "Python 3",
   "language": "python",
   "name": "python3"
  },
  "language_info": {
   "codemirror_mode": {
    "name": "ipython",
    "version": 3
   },
   "file_extension": ".py",
   "mimetype": "text/x-python",
   "name": "python",
   "nbconvert_exporter": "python",
   "pygments_lexer": "ipython3",
   "version": "3.6.4"
  }
 },
 "nbformat": 4,
 "nbformat_minor": 2
}
